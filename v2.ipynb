{
 "metadata": {
  "name": "", 
  "signature": "sha256:4df6b0550eb7b13837fe5a0fcf04adf89369bb517fd296017565d07a31004d17"
 }, 
 "nbformat": 2, 
 "nbformat_minor": 0, 
 "worksheets": [
  {
   "cells": [
    {
     "cell_type": "code", 
     "collapsed": false, 
     "input": [], 
     "language": "python", 
     "metadata": {}, 
     "outputs": []
    }
   ], 
   "metadata": {}
  }
 ]
}